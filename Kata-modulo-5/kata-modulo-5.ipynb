{
 "cells": [
  {
   "cell_type": "markdown",
   "metadata": {},
   "source": [
    "## Ejercicio 1"
   ]
  },
  {
   "cell_type": "markdown",
   "metadata": {},
   "source": [
    "### crear variables"
   ]
  },
  {
   "cell_type": "code",
   "execution_count": 1,
   "metadata": {},
   "outputs": [],
   "source": [
    "tierra = 149.597870\n",
    "jupiter = 778.547200 "
   ]
  },
  {
   "cell_type": "code",
   "execution_count": 5,
   "metadata": {},
   "outputs": [
    {
     "ename": "NameError",
     "evalue": "name 'tierra' is not defined",
     "output_type": "error",
     "traceback": [
      "\u001b[1;31m---------------------------------------------------------------------------\u001b[0m",
      "\u001b[1;31mNameError\u001b[0m                                 Traceback (most recent call last)",
      "\u001b[1;32mc:\\Users\\Admin\\Documents\\Cursos\\Innovacción\\LaunchX-Innovaccion\\Kata-modulo-3\\kata-modulo-5.ipynb Cell 4'\u001b[0m in \u001b[0;36m<module>\u001b[1;34m\u001b[0m\n\u001b[1;32m----> <a href='vscode-notebook-cell:/c%3A/Users/Admin/Documents/Cursos/Innovacci%C3%B3n/LaunchX-Innovaccion/Kata-modulo-3/kata-modulo-5.ipynb#ch0000003?line=0'>1</a>\u001b[0m distance \u001b[39m=\u001b[39m tierra \u001b[39m-\u001b[39m jupiter\n\u001b[0;32m      <a href='vscode-notebook-cell:/c%3A/Users/Admin/Documents/Cursos/Innovacci%C3%B3n/LaunchX-Innovaccion/Kata-modulo-3/kata-modulo-5.ipynb#ch0000003?line=1'>2</a>\u001b[0m \u001b[39mprint\u001b[39m(distance)\n",
      "\u001b[1;31mNameError\u001b[0m: name 'tierra' is not defined"
     ]
    }
   ],
   "source": [
    "distance = tierra - jupiter\n",
    "print(distance)"
   ]
  },
  {
   "cell_type": "code",
   "execution_count": 4,
   "metadata": {},
   "outputs": [
    {
     "name": "stdout",
     "output_type": "stream",
     "text": [
      "-390.57753392999996\n"
     ]
    }
   ],
   "source": [
    "distance_millas = distance * 0.621\n",
    "print(distance_millas)"
   ]
  },
  {
   "cell_type": "markdown",
   "metadata": {},
   "source": [
    "### Ejercico 2"
   ]
  },
  {
   "cell_type": "code",
   "execution_count": 8,
   "metadata": {},
   "outputs": [],
   "source": [
    "tierra = input('Agregue la distancia actual del sol')\n",
    "jupiter = input('Agregue la distancia que hay del del sol a jupiter')"
   ]
  },
  {
   "cell_type": "code",
   "execution_count": 6,
   "metadata": {},
   "outputs": [],
   "source": [
    "tierra = int(tierra)\n",
    "jupiter = int(jupiter)"
   ]
  },
  {
   "cell_type": "code",
   "execution_count": 2,
   "metadata": {},
   "outputs": [
    {
     "ename": "NameError",
     "evalue": "name 'jupiter' is not defined",
     "output_type": "error",
     "traceback": [
      "\u001b[1;31m---------------------------------------------------------------------------\u001b[0m",
      "\u001b[1;31mNameError\u001b[0m                                 Traceback (most recent call last)",
      "\u001b[1;32mc:\\Users\\Admin\\Documents\\Cursos\\Innovacción\\LaunchX-Innovaccion\\Kata-modulo-3\\kata-modulo-5.ipynb Cell 9'\u001b[0m in \u001b[0;36m<module>\u001b[1;34m\u001b[0m\n\u001b[1;32m----> <a href='vscode-notebook-cell:/c%3A/Users/Admin/Documents/Cursos/Innovacci%C3%B3n/LaunchX-Innovaccion/Kata-modulo-3/kata-modulo-5.ipynb#ch0000008?line=0'>1</a>\u001b[0m distance \u001b[39m=\u001b[39m jupiter \u001b[39m-\u001b[39m tierra\n\u001b[0;32m      <a href='vscode-notebook-cell:/c%3A/Users/Admin/Documents/Cursos/Innovacci%C3%B3n/LaunchX-Innovaccion/Kata-modulo-3/kata-modulo-5.ipynb#ch0000008?line=1'>2</a>\u001b[0m \u001b[39mprint\u001b[39m(distance)\n",
      "\u001b[1;31mNameError\u001b[0m: name 'jupiter' is not defined"
     ]
    }
   ],
   "source": [
    "distance = jupiter - tierra\n",
    "print(distance)"
   ]
  },
  {
   "cell_type": "code",
   "execution_count": 10,
   "metadata": {},
   "outputs": [
    {
     "name": "stdout",
     "output_type": "stream",
     "text": [
      "390.57753392999996\n"
     ]
    }
   ],
   "source": [
    "distance_millas = distance  * 0.621\n",
    "print(abs(distance_millas))"
   ]
  }
 ],
 "metadata": {
  "interpreter": {
   "hash": "8df092bfa2a7941e3a633739def87ce31ced0aee2a4beadb497a281d9d579ff4"
  },
  "kernelspec": {
   "display_name": "Python 3.10.2 64-bit (windows store)",
   "language": "python",
   "name": "python3"
  },
  "language_info": {
   "codemirror_mode": {
    "name": "ipython",
    "version": 3
   },
   "file_extension": ".py",
   "mimetype": "text/x-python",
   "name": "python",
   "nbconvert_exporter": "python",
   "pygments_lexer": "ipython3",
   "version": "3.10.2"
  },
  "orig_nbformat": 4
 },
 "nbformat": 4,
 "nbformat_minor": 2
}

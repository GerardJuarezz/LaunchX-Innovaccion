{
 "cells": [
  {
   "cell_type": "markdown",
   "metadata": {},
   "source": [
    "## Alertar a los ciudadanos del asteroide"
   ]
  },
  {
   "cell_type": "code",
   "execution_count": 3,
   "metadata": {},
   "outputs": [
    {
     "name": "stdout",
     "output_type": "stream",
     "text": [
      "Estamos en peligro se acerca un asteroide\n"
     ]
    }
   ],
   "source": [
    "velocida_superior = 25\n",
    "asteroide_cerca = 49\n",
    "if asteroide_cerca >= velocida_superior:\n",
    "    print(\"Estamos en peligro se acerca un asteroide\")\n",
    "else:\n",
    "    print(\"No pasa nada\")    "
   ]
  },
  {
   "cell_type": "markdown",
   "metadata": {},
   "source": [
    "## Asteroide detectado"
   ]
  },
  {
   "cell_type": "code",
   "execution_count": 4,
   "metadata": {},
   "outputs": [
    {
     "name": "stdout",
     "output_type": "stream",
     "text": [
      "No hay de que preocuparse\n"
     ]
    }
   ],
   "source": [
    "velocida_superior = 25\n",
    "genera_rayo = 20\n",
    "asteroide_tierra = 19\n",
    "if asteroide_tierra >= genera_rayo:\n",
    "    print(\"Mira al cielo, hay un rayo\")\n",
    "    if asteroide_tierra >= velocida_superior:\n",
    "        print(\"Asteroide peligroso\")\n",
    "elif asteroide_tierra <= genera_rayo:\n",
    "    print(\"No hay de que preocuparse\")         "
   ]
  },
  {
   "cell_type": "code",
   "execution_count": 18,
   "metadata": {},
   "outputs": [
    {
     "name": "stdout",
     "output_type": "stream",
     "text": [
      "Asteroide peligroso en camino\n"
     ]
    }
   ],
   "source": [
    "dimension = 25\n",
    "dimension2 = 1000\n",
    "velocida_superior = 25\n",
    "genera_rayo = 20\n",
    "asteroide_entrando = 29\n",
    "if asteroide_entrando >= 25 and dimension >= 25:\n",
    "    print(\"Asteroide peligroso en camino\")\n",
    "elif asteroide_entrando == 20:\n",
    "    print(\"Mira al cielo\")\n",
    "elif asteroide_entrando <= 12:\n",
    "    print(\"No hay peligro\")"
   ]
  }
 ],
 "metadata": {
  "interpreter": {
   "hash": "8df092bfa2a7941e3a633739def87ce31ced0aee2a4beadb497a281d9d579ff4"
  },
  "kernelspec": {
   "display_name": "Python 3.10.2 64-bit (windows store)",
   "language": "python",
   "name": "python3"
  },
  "language_info": {
   "codemirror_mode": {
    "name": "ipython",
    "version": 3
   },
   "file_extension": ".py",
   "mimetype": "text/x-python",
   "name": "python",
   "nbconvert_exporter": "python",
   "pygments_lexer": "ipython3",
   "version": "3.10.2"
  },
  "orig_nbformat": 4
 },
 "nbformat": 4,
 "nbformat_minor": 2
}
